{
 "cells": [
  {
   "cell_type": "code",
   "execution_count": 2,
   "id": "4883e125-7a75-4582-89a1-496c30c013bb",
   "metadata": {
    "tags": []
   },
   "outputs": [
    {
     "name": "stdout",
     "output_type": "stream",
     "text": [
      "Collecting dill\n",
      "  Using cached dill-0.3.8-py3-none-any.whl.metadata (10 kB)\n",
      "Using cached dill-0.3.8-py3-none-any.whl (116 kB)\n",
      "Installing collected packages: dill\n",
      "Successfully installed dill-0.3.8\n",
      "Note: you may need to restart the kernel to use updated packages.\n"
     ]
    }
   ],
   "source": [
    "pip install dill"
   ]
  },
  {
   "cell_type": "code",
   "execution_count": 3,
   "id": "8dc094e3-1937-4227-b1d3-3e7e469dcbbc",
   "metadata": {
    "tags": []
   },
   "outputs": [],
   "source": [
    "import dill\n",
    "import pandas as pd\n",
    "import os\n",
    "import re\n",
    "import json\n",
    "from collections import Counter\n",
    "import time"
   ]
  },
  {
   "cell_type": "code",
   "execution_count": 4,
   "id": "074f8647-6b7d-4d05-a318-7432ceaa9a18",
   "metadata": {
    "tags": []
   },
   "outputs": [],
   "source": [
    "ENVS = {'click-checkboxes-soft':10,\n",
    " 'click-tab-2-hard':20,\n",
    " 'social-media':15,\n",
    " 'email-inbox':30,\n",
    " 'social-media-some':30,\n",
    " 'tic-tac-toe':10,\n",
    " 'use-autocomplete':10,\n",
    " 'book-flight':30,\n",
    " 'choose-date':20,\n",
    " 'search-engine':20}"
   ]
  },
  {
   "cell_type": "code",
   "execution_count": 5,
   "id": "f32f3990-9326-413c-9924-1a9d275920e4",
   "metadata": {
    "tags": []
   },
   "outputs": [],
   "source": [
    "def remove_nonessentials(dom):\n",
    "    elements = []\n",
    "    for e in dom:\n",
    "        element = e.copy()\n",
    "        del element['fg_color']\n",
    "        del element['bg_color']\n",
    "        del element['flags']\n",
    "        element['left'] = int(element['left'][0])\n",
    "        element['top'] = int(element['top'][0])\n",
    "        element['height'] = int(element['height'][0])\n",
    "        element['width'] = int(element['width'][0])\n",
    "        elements.append(element)\n",
    "    return elements\n",
    "\n",
    "def remove_nonessentials_sms(dom):\n",
    "    elements = []\n",
    "    for e in dom:\n",
    "        element = e.copy()\n",
    "        del element['fg_color']\n",
    "        del element['bg_color']\n",
    "        element['flags'] = element['flags'].astype(int)\n",
    "        element['left'] = int(element['left'][0])\n",
    "        element['top'] = int(element['top'][0])\n",
    "        element['height'] = int(element['height'][0])\n",
    "        element['width'] = int(element['width'][0])\n",
    "        elements.append(element)\n",
    "    return elements"
   ]
  },
  {
   "cell_type": "code",
   "execution_count": 11,
   "id": "bc58724d-6bf6-4297-b1ae-f34c817911dd",
   "metadata": {
    "tags": []
   },
   "outputs": [],
   "source": [
    "def create_jsonl(trajectory,env):\n",
    "    states = trajectory['states']\n",
    "    doms = [x['dom_elements'] for x in states]\n",
    "    images = [x['screenshot'] for x in states]\n",
    "    actions = [x['action'] for x in states]\n",
    "    goals = [trajectory['utterance']]* (len(states)-1)\n",
    "    df_ref = pd.DataFrame()\n",
    "    df_ref['goal'] = goals\n",
    "    df_ref['dom'] =doms[:-1]\n",
    "    if env == 'social-media-some':\n",
    "        df_ref['dom_simplified'] = df_ref['dom'].copy().apply(remove_nonessentials_sms)\n",
    "    else:\n",
    "        df_ref['dom_simplified'] = df_ref['dom'].copy().apply(remove_nonessentials)\n",
    "\n",
    "    df_ref['output'] = actions[1:]\n",
    "    df_train = pd.DataFrame()\n",
    "    df_train['input'] = df_ref.apply(lambda x: 'Goal: {} DOM elements: {}'.format(x['goal'], x['dom']).replace(\n",
    "        ', dtype=float32)','').replace(', dtype=int8)','').replace('array(','').replace(\"'\",\"\"), axis=1)\n",
    "    df_train['output'] = df_ref['output']\n",
    "    lst = []\n",
    "    for row in df_train.itertuples():\n",
    "        lst.append(json.dumps({\"messages\":[{\"role\":\"user\",\"content\":row[1]},{\"role\":\"model\",\"content\":row[2]}]}))\n",
    "    return lst\n",
    "\n",
    "def create_test_dataset(env,df_stats):\n",
    "    jsonl = []\n",
    "    filenames = df_token_counts[(df_stats.env_name == env) & (df_stats.max_tokens_cn_short<=8192)].filename.values\n",
    "    for filename in filenames:\n",
    "        trajectory = dill.load(open(filename,'rb'))\n",
    "        jsonl += create_jsonl(trajectory,env)\n",
    "    dataset_name ='dataset_{}.JSONL'.format(env)\n",
    "    print(dataset_name,len(jsonl))\n",
    "    with open(dataset_name, 'w') as file:\n",
    "        for example in jsonl:\n",
    "            file.write(example + '\\n')\n",
    "    return dataset_name,len(jsonl)\n",
    "\n",
    "def concatenate_jsonl_files(input_files, output_file):\n",
    "    count_examples = 0\n",
    "    with open(output_file, 'w') as outfile:\n",
    "        for file_path in input_files:\n",
    "            with open(file_path, 'r') as infile:\n",
    "                for line in infile:\n",
    "                    outfile.write(line)\n",
    "                    count_examples +=1\n",
    "    print('Total examples: {}', count_examples)\n"
   ]
  },
  {
   "cell_type": "code",
   "execution_count": 12,
   "id": "f02cf768-f232-4542-b129-fbfedc611239",
   "metadata": {
    "tags": []
   },
   "outputs": [
    {
     "name": "stdout",
     "output_type": "stream",
     "text": [
      "dataset_click-checkboxes-soft.JSONL 323\n",
      "dataset_click-tab-2-hard.JSONL 263\n",
      "dataset_social-media.JSONL 163\n",
      "dataset_email-inbox.JSONL 280\n",
      "dataset_social-media-some.JSONL 280\n",
      "dataset_tic-tac-toe.JSONL 341\n",
      "dataset_use-autocomplete.JSONL 412\n",
      "dataset_book-flight.JSONL 1224\n",
      "dataset_choose-date.JSONL 838\n",
      "dataset_search-engine.JSONL 456\n",
      "Total examples: {} 4580\n"
     ]
    },
    {
     "data": {
      "text/html": [
       "<div>\n",
       "<style scoped>\n",
       "    .dataframe tbody tr th:only-of-type {\n",
       "        vertical-align: middle;\n",
       "    }\n",
       "\n",
       "    .dataframe tbody tr th {\n",
       "        vertical-align: top;\n",
       "    }\n",
       "\n",
       "    .dataframe thead th {\n",
       "        text-align: right;\n",
       "    }\n",
       "</style>\n",
       "<table border=\"1\" class=\"dataframe\">\n",
       "  <thead>\n",
       "    <tr style=\"text-align: right;\">\n",
       "      <th></th>\n",
       "      <th>Environment</th>\n",
       "      <th>Numbr of Examples</th>\n",
       "    </tr>\n",
       "  </thead>\n",
       "  <tbody>\n",
       "    <tr>\n",
       "      <th>0</th>\n",
       "      <td>click-checkboxes-soft</td>\n",
       "      <td>323</td>\n",
       "    </tr>\n",
       "    <tr>\n",
       "      <th>1</th>\n",
       "      <td>click-tab-2-hard</td>\n",
       "      <td>263</td>\n",
       "    </tr>\n",
       "    <tr>\n",
       "      <th>2</th>\n",
       "      <td>social-media</td>\n",
       "      <td>163</td>\n",
       "    </tr>\n",
       "    <tr>\n",
       "      <th>3</th>\n",
       "      <td>email-inbox</td>\n",
       "      <td>280</td>\n",
       "    </tr>\n",
       "    <tr>\n",
       "      <th>4</th>\n",
       "      <td>social-media-some</td>\n",
       "      <td>280</td>\n",
       "    </tr>\n",
       "    <tr>\n",
       "      <th>5</th>\n",
       "      <td>tic-tac-toe</td>\n",
       "      <td>341</td>\n",
       "    </tr>\n",
       "    <tr>\n",
       "      <th>6</th>\n",
       "      <td>use-autocomplete</td>\n",
       "      <td>412</td>\n",
       "    </tr>\n",
       "    <tr>\n",
       "      <th>7</th>\n",
       "      <td>book-flight</td>\n",
       "      <td>1224</td>\n",
       "    </tr>\n",
       "    <tr>\n",
       "      <th>8</th>\n",
       "      <td>choose-date</td>\n",
       "      <td>838</td>\n",
       "    </tr>\n",
       "    <tr>\n",
       "      <th>9</th>\n",
       "      <td>search-engine</td>\n",
       "      <td>456</td>\n",
       "    </tr>\n",
       "  </tbody>\n",
       "</table>\n",
       "</div>"
      ],
      "text/plain": [
       "             Environment  Numbr of Examples\n",
       "0  click-checkboxes-soft                323\n",
       "1       click-tab-2-hard                263\n",
       "2           social-media                163\n",
       "3            email-inbox                280\n",
       "4      social-media-some                280\n",
       "5            tic-tac-toe                341\n",
       "6       use-autocomplete                412\n",
       "7            book-flight               1224\n",
       "8            choose-date                838\n",
       "9          search-engine                456"
      ]
     },
     "execution_count": 12,
     "metadata": {},
     "output_type": "execute_result"
    }
   ],
   "source": [
    "input_files, lengths = [],[]\n",
    "df_token_counts = dill.load(open('training_stats.pkd','rb'))\n",
    "for env in ENVS:\n",
    "    dataset_name,length = create_test_dataset(env, df_token_counts)\n",
    "    lengths.append(length)\n",
    "    input_files.append(dataset_name)\n",
    "df = pd.DataFrame()\n",
    "df['Environment'] = ENVS.keys()\n",
    "df['Number of Examples'] = lengths\n",
    "df.to_csv('dataset_composition1.csv')\n",
    "concatenate_jsonl_files(input_files, 'dataset_full_test.JSONL' )\n",
    "df"
   ]
  },
  {
   "cell_type": "code",
   "execution_count": 13,
   "id": "d8b5e86f-3b3e-4462-8454-a06ae9f839e7",
   "metadata": {
    "tags": []
   },
   "outputs": [
    {
     "data": {
      "text/html": [
       "<div>\n",
       "<style scoped>\n",
       "    .dataframe tbody tr th:only-of-type {\n",
       "        vertical-align: middle;\n",
       "    }\n",
       "\n",
       "    .dataframe tbody tr th {\n",
       "        vertical-align: top;\n",
       "    }\n",
       "\n",
       "    .dataframe thead th {\n",
       "        text-align: right;\n",
       "    }\n",
       "</style>\n",
       "<table border=\"1\" class=\"dataframe\">\n",
       "  <thead>\n",
       "    <tr style=\"text-align: right;\">\n",
       "      <th></th>\n",
       "      <th>Environment</th>\n",
       "      <th>Number of Examples</th>\n",
       "    </tr>\n",
       "  </thead>\n",
       "  <tbody>\n",
       "    <tr>\n",
       "      <th>0</th>\n",
       "      <td>click-checkboxes-soft</td>\n",
       "      <td>323</td>\n",
       "    </tr>\n",
       "    <tr>\n",
       "      <th>1</th>\n",
       "      <td>click-tab-2-hard</td>\n",
       "      <td>263</td>\n",
       "    </tr>\n",
       "    <tr>\n",
       "      <th>2</th>\n",
       "      <td>social-media</td>\n",
       "      <td>163</td>\n",
       "    </tr>\n",
       "    <tr>\n",
       "      <th>3</th>\n",
       "      <td>email-inbox</td>\n",
       "      <td>280</td>\n",
       "    </tr>\n",
       "    <tr>\n",
       "      <th>4</th>\n",
       "      <td>social-media-some</td>\n",
       "      <td>280</td>\n",
       "    </tr>\n",
       "    <tr>\n",
       "      <th>5</th>\n",
       "      <td>tic-tac-toe</td>\n",
       "      <td>341</td>\n",
       "    </tr>\n",
       "    <tr>\n",
       "      <th>6</th>\n",
       "      <td>use-autocomplete</td>\n",
       "      <td>412</td>\n",
       "    </tr>\n",
       "    <tr>\n",
       "      <th>7</th>\n",
       "      <td>book-flight</td>\n",
       "      <td>1224</td>\n",
       "    </tr>\n",
       "    <tr>\n",
       "      <th>8</th>\n",
       "      <td>choose-date</td>\n",
       "      <td>838</td>\n",
       "    </tr>\n",
       "    <tr>\n",
       "      <th>9</th>\n",
       "      <td>search-engine</td>\n",
       "      <td>456</td>\n",
       "    </tr>\n",
       "  </tbody>\n",
       "</table>\n",
       "</div>"
      ],
      "text/plain": [
       "             Environment  Number of Examples\n",
       "0  click-checkboxes-soft                 323\n",
       "1       click-tab-2-hard                 263\n",
       "2           social-media                 163\n",
       "3            email-inbox                 280\n",
       "4      social-media-some                 280\n",
       "5            tic-tac-toe                 341\n",
       "6       use-autocomplete                 412\n",
       "7            book-flight                1224\n",
       "8            choose-date                 838\n",
       "9          search-engine                 456"
      ]
     },
     "execution_count": 13,
     "metadata": {},
     "output_type": "execute_result"
    }
   ],
   "source": [
    "df = df.rename(columns={'Numbr of Examples':'Number of Examples'})\n",
    "df.to_csv('dataset_composition1.csv')\n",
    "df"
   ]
  },
  {
   "cell_type": "code",
   "execution_count": 16,
   "id": "10f9132f-81bb-41cd-9e56-a31ead258425",
   "metadata": {
    "tags": []
   },
   "outputs": [
    {
     "data": {
      "text/plain": [
       "env_name\n",
       "book-flight              111\n",
       "choose-date              100\n",
       "click-checkboxes-soft    100\n",
       "click-tab-2-hard         100\n",
       "email-inbox              108\n",
       "search-engine             91\n",
       "social-media             105\n",
       "social-media-some        107\n",
       "tic-tac-toe              100\n",
       "use-autocomplete         103\n",
       "Name: filename, dtype: int64"
      ]
     },
     "execution_count": 16,
     "metadata": {},
     "output_type": "execute_result"
    }
   ],
   "source": [
    "df_token_counts[df_token_counts.max_tokens_cn_short<=8192].groupby('env_name').agg('count').filename"
   ]
  },
  {
   "cell_type": "code",
   "execution_count": 18,
   "id": "f6035c5c-84bc-42b6-953b-02d2e948b84e",
   "metadata": {
    "tags": []
   },
   "outputs": [
    {
     "ename": "KeyError",
     "evalue": "\"None of ['Environment'] are in the columns\"",
     "output_type": "error",
     "traceback": [
      "\u001b[0;31m---------------------------------------------------------------------------\u001b[0m",
      "\u001b[0;31mKeyError\u001b[0m                                  Traceback (most recent call last)",
      "\u001b[0;32m/tmp/ipykernel_1/816591252.py\u001b[0m in \u001b[0;36m?\u001b[0;34m()\u001b[0m\n\u001b[0;32m----> 1\u001b[0;31m \u001b[0mdf\u001b[0m \u001b[0;34m=\u001b[0m \u001b[0mdf\u001b[0m\u001b[0;34m.\u001b[0m\u001b[0mset_index\u001b[0m\u001b[0;34m(\u001b[0m\u001b[0;34m'Environment'\u001b[0m\u001b[0;34m)\u001b[0m\u001b[0;34m\u001b[0m\u001b[0;34m\u001b[0m\u001b[0m\n\u001b[0m\u001b[1;32m      2\u001b[0m \u001b[0mdf\u001b[0m\u001b[0;34m[\u001b[0m\u001b[0;34m'Number of Trajectories'\u001b[0m\u001b[0;34m]\u001b[0m \u001b[0;34m=\u001b[0m \u001b[0mdf_token_counts\u001b[0m\u001b[0;34m[\u001b[0m\u001b[0mdf_token_counts\u001b[0m\u001b[0;34m.\u001b[0m\u001b[0mmax_tokens_cn_short\u001b[0m\u001b[0;34m<=\u001b[0m\u001b[0;36m8192\u001b[0m\u001b[0;34m]\u001b[0m\u001b[0;34m.\u001b[0m\u001b[0mgroupby\u001b[0m\u001b[0;34m(\u001b[0m\u001b[0;34m'env_name'\u001b[0m\u001b[0;34m)\u001b[0m\u001b[0;34m.\u001b[0m\u001b[0magg\u001b[0m\u001b[0;34m(\u001b[0m\u001b[0;34m'count'\u001b[0m\u001b[0;34m)\u001b[0m\u001b[0;34m.\u001b[0m\u001b[0mfilename\u001b[0m\u001b[0;34m\u001b[0m\u001b[0;34m\u001b[0m\u001b[0m\n\u001b[1;32m      3\u001b[0m \u001b[0mdf\u001b[0m\u001b[0;34m\u001b[0m\u001b[0;34m\u001b[0m\u001b[0m\n",
      "\u001b[0;32m/opt/conda/lib/python3.10/site-packages/pandas/core/frame.py\u001b[0m in \u001b[0;36m?\u001b[0;34m(self, keys, drop, append, inplace, verify_integrity)\u001b[0m\n\u001b[1;32m   5855\u001b[0m                     \u001b[0;32mif\u001b[0m \u001b[0;32mnot\u001b[0m \u001b[0mfound\u001b[0m\u001b[0;34m:\u001b[0m\u001b[0;34m\u001b[0m\u001b[0;34m\u001b[0m\u001b[0m\n\u001b[1;32m   5856\u001b[0m                         \u001b[0mmissing\u001b[0m\u001b[0;34m.\u001b[0m\u001b[0mappend\u001b[0m\u001b[0;34m(\u001b[0m\u001b[0mcol\u001b[0m\u001b[0;34m)\u001b[0m\u001b[0;34m\u001b[0m\u001b[0;34m\u001b[0m\u001b[0m\n\u001b[1;32m   5857\u001b[0m \u001b[0;34m\u001b[0m\u001b[0m\n\u001b[1;32m   5858\u001b[0m         \u001b[0;32mif\u001b[0m \u001b[0mmissing\u001b[0m\u001b[0;34m:\u001b[0m\u001b[0;34m\u001b[0m\u001b[0;34m\u001b[0m\u001b[0m\n\u001b[0;32m-> 5859\u001b[0;31m             \u001b[0;32mraise\u001b[0m \u001b[0mKeyError\u001b[0m\u001b[0;34m(\u001b[0m\u001b[0;34mf\"None of {missing} are in the columns\"\u001b[0m\u001b[0;34m)\u001b[0m\u001b[0;34m\u001b[0m\u001b[0;34m\u001b[0m\u001b[0m\n\u001b[0m\u001b[1;32m   5860\u001b[0m \u001b[0;34m\u001b[0m\u001b[0m\n\u001b[1;32m   5861\u001b[0m         \u001b[0;32mif\u001b[0m \u001b[0minplace\u001b[0m\u001b[0;34m:\u001b[0m\u001b[0;34m\u001b[0m\u001b[0;34m\u001b[0m\u001b[0m\n\u001b[1;32m   5862\u001b[0m             \u001b[0mframe\u001b[0m \u001b[0;34m=\u001b[0m \u001b[0mself\u001b[0m\u001b[0;34m\u001b[0m\u001b[0;34m\u001b[0m\u001b[0m\n",
      "\u001b[0;31mKeyError\u001b[0m: \"None of ['Environment'] are in the columns\""
     ]
    }
   ],
   "source": [
    "df = df.set_index('Environment')\n",
    "df['Number of Trajectories'] = df_token_counts[df_token_counts.max_tokens_cn_short<=8192].groupby('env_name').agg('count').filename"
   ]
  },
  {
   "cell_type": "code",
   "execution_count": 21,
   "id": "871993e1-8cf2-409d-ad48-59c339c1a00e",
   "metadata": {
    "tags": []
   },
   "outputs": [
    {
     "data": {
      "text/html": [
       "<div>\n",
       "<style scoped>\n",
       "    .dataframe tbody tr th:only-of-type {\n",
       "        vertical-align: middle;\n",
       "    }\n",
       "\n",
       "    .dataframe tbody tr th {\n",
       "        vertical-align: top;\n",
       "    }\n",
       "\n",
       "    .dataframe thead th {\n",
       "        text-align: right;\n",
       "    }\n",
       "</style>\n",
       "<table border=\"1\" class=\"dataframe\">\n",
       "  <thead>\n",
       "    <tr style=\"text-align: right;\">\n",
       "      <th></th>\n",
       "      <th>Environment</th>\n",
       "      <th>Number of Trajectories</th>\n",
       "      <th>Number of Examples</th>\n",
       "    </tr>\n",
       "  </thead>\n",
       "  <tbody>\n",
       "    <tr>\n",
       "      <th>0</th>\n",
       "      <td>click-checkboxes-soft</td>\n",
       "      <td>100</td>\n",
       "      <td>323</td>\n",
       "    </tr>\n",
       "    <tr>\n",
       "      <th>1</th>\n",
       "      <td>click-tab-2-hard</td>\n",
       "      <td>100</td>\n",
       "      <td>263</td>\n",
       "    </tr>\n",
       "    <tr>\n",
       "      <th>2</th>\n",
       "      <td>social-media</td>\n",
       "      <td>105</td>\n",
       "      <td>163</td>\n",
       "    </tr>\n",
       "    <tr>\n",
       "      <th>3</th>\n",
       "      <td>email-inbox</td>\n",
       "      <td>108</td>\n",
       "      <td>280</td>\n",
       "    </tr>\n",
       "    <tr>\n",
       "      <th>4</th>\n",
       "      <td>social-media-some</td>\n",
       "      <td>107</td>\n",
       "      <td>280</td>\n",
       "    </tr>\n",
       "    <tr>\n",
       "      <th>5</th>\n",
       "      <td>tic-tac-toe</td>\n",
       "      <td>100</td>\n",
       "      <td>341</td>\n",
       "    </tr>\n",
       "    <tr>\n",
       "      <th>6</th>\n",
       "      <td>use-autocomplete</td>\n",
       "      <td>103</td>\n",
       "      <td>412</td>\n",
       "    </tr>\n",
       "    <tr>\n",
       "      <th>7</th>\n",
       "      <td>book-flight</td>\n",
       "      <td>111</td>\n",
       "      <td>1224</td>\n",
       "    </tr>\n",
       "    <tr>\n",
       "      <th>8</th>\n",
       "      <td>choose-date</td>\n",
       "      <td>100</td>\n",
       "      <td>838</td>\n",
       "    </tr>\n",
       "    <tr>\n",
       "      <th>9</th>\n",
       "      <td>search-engine</td>\n",
       "      <td>91</td>\n",
       "      <td>456</td>\n",
       "    </tr>\n",
       "  </tbody>\n",
       "</table>\n",
       "</div>"
      ],
      "text/plain": [
       "             Environment  Number of Trajectories  Number of Examples\n",
       "0  click-checkboxes-soft                     100                 323\n",
       "1       click-tab-2-hard                     100                 263\n",
       "2           social-media                     105                 163\n",
       "3            email-inbox                     108                 280\n",
       "4      social-media-some                     107                 280\n",
       "5            tic-tac-toe                     100                 341\n",
       "6       use-autocomplete                     103                 412\n",
       "7            book-flight                     111                1224\n",
       "8            choose-date                     100                 838\n",
       "9          search-engine                      91                 456"
      ]
     },
     "execution_count": 21,
     "metadata": {},
     "output_type": "execute_result"
    }
   ],
   "source": [
    "df=df.reset_index()[['Environment','Number of Trajectories','Number of Examples']]\n",
    "df"
   ]
  },
  {
   "cell_type": "code",
   "execution_count": 22,
   "id": "5074dda8-04f9-443a-b18e-710785b50d7c",
   "metadata": {
    "tags": []
   },
   "outputs": [],
   "source": [
    "df.to_csv('dataset_composition1.csv')"
   ]
  },
  {
   "cell_type": "code",
   "execution_count": 15,
   "id": "86c9e2ec-e4f5-48ad-bf99-1d5d3a917332",
   "metadata": {
    "tags": []
   },
   "outputs": [
    {
     "name": "stdout",
     "output_type": "stream",
     "text": [
      "Playing as 'X', win a game of tic-tac-toe.\n",
      "0.8200000000000001\n"
     ]
    },
    {
     "data": {
      "text/plain": [
       "['',\n",
       " 'Click on any empty square - CLICK_ELEMENT 5',\n",
       " 'Click on a square in a row, column or diagonal where there is an X and an empty space and no O\\n        or two Xs and no O - CLICK_ELEMENT 6',\n",
       " 'Click on a square in a row, column or diagonal where there is an X and an empty space and no O\\n        or two Xs and no O - CLICK_ELEMENT 9',\n",
       " 'Click on a square in a row, column or diagonal where there is an X and an empty space and no O\\n        or two Xs and no O - CLICK_ELEMENT 13']"
      ]
     },
     "execution_count": 15,
     "metadata": {},
     "output_type": "execute_result"
    }
   ],
   "source": [
    "trajectory = dill.load(open('trajectories_train/tic-tac-toe/tic-tac-toe036.pkd', 'rb'))\n",
    "print(trajectory['utterance'])\n",
    "print(trajectory['reward'])\n",
    "[x['action'] for x in trajectory['states']]"
   ]
  },
  {
   "cell_type": "code",
   "execution_count": null,
   "id": "9182b61e-96ad-4d9c-8f1e-51b923ca6956",
   "metadata": {},
   "outputs": [],
   "source": []
  }
 ],
 "metadata": {
  "kernelspec": {
   "display_name": "Python (Local)",
   "language": "python",
   "name": "base"
  },
  "language_info": {
   "codemirror_mode": {
    "name": "ipython",
    "version": 3
   },
   "file_extension": ".py",
   "mimetype": "text/x-python",
   "name": "python",
   "nbconvert_exporter": "python",
   "pygments_lexer": "ipython3",
   "version": "3.10.14"
  }
 },
 "nbformat": 4,
 "nbformat_minor": 5
}
